{
 "cells": [
  {
   "cell_type": "markdown",
   "metadata": {
    "_uuid": "0f5971b9d607f4871c822190acad6bd398950dc9"
   },
   "source": [
    "# Skillcraft\n",
    "\n",
    "Starcraft is a Real Time Strategy (RTS) game developed by Blizzard that is played competitively.  There is a ranked system within the game that divides players into leagues (Bronze, Silver, Gold, Platinum, Diamond, Master and Grandmaster).  These have been indexed into 7 leagues from 1-7.  \n",
    "\n",
    "The dataset can be obtained from here: https://www.kaggle.com/danofer/skillcraft\n",
    "\n",
    "The goal of this notebook is to do an exploratory data analysis of the data as well as conduct some basic multinomial classification modelling on the data."
   ]
  },
  {
   "cell_type": "markdown",
   "metadata": {
    "_uuid": "f20cd992862621e0503badfb29c917aaf58febac"
   },
   "source": [
    "## Imports\n",
    "\n",
    "Import useful libraries and the data itself.  "
   ]
  },
  {
   "cell_type": "code",
   "execution_count": 1,
   "metadata": {
    "_uuid": "9d015fae1a0797c5e6fdeda0a978c7685da95178"
   },
   "outputs": [],
   "source": [
    "# imports\n",
    "import pandas as pd\n",
    "import numpy as np\n",
    "import matplotlib.pyplot as plt\n",
    "import seaborn as sns\n",
    "\n",
    "# scikit-learn for naive-bayes classifier\n",
    "from sklearn.naive_bayes import MultinomialNB\n",
    "from sklearn.model_selection import train_test_split\n",
    "from sklearn.metrics import accuracy_score\n",
    "\n",
    "# random forest classifier\n",
    "from sklearn.ensemble import RandomForestClassifier\n",
    "\n",
    "# support vector machine\n",
    "from sklearn import svm"
   ]
  },
  {
   "cell_type": "code",
   "execution_count": 7,
   "metadata": {
    "_uuid": "6c9c37f3b8cdb73bec97b9ff9e3f6aeae8e327a5"
   },
   "outputs": [
    {
     "data": {
      "text/html": [
       "<div>\n",
       "<style scoped>\n",
       "    .dataframe tbody tr th:only-of-type {\n",
       "        vertical-align: middle;\n",
       "    }\n",
       "\n",
       "    .dataframe tbody tr th {\n",
       "        vertical-align: top;\n",
       "    }\n",
       "\n",
       "    .dataframe thead th {\n",
       "        text-align: right;\n",
       "    }\n",
       "</style>\n",
       "<table border=\"1\" class=\"dataframe\">\n",
       "  <thead>\n",
       "    <tr style=\"text-align: right;\">\n",
       "      <th></th>\n",
       "      <th>GameID</th>\n",
       "      <th>LeagueIndex</th>\n",
       "      <th>Age</th>\n",
       "      <th>HoursPerWeek</th>\n",
       "      <th>TotalHours</th>\n",
       "      <th>APM</th>\n",
       "      <th>SelectByHotkeys</th>\n",
       "      <th>AssignToHotkeys</th>\n",
       "      <th>UniqueHotkeys</th>\n",
       "      <th>MinimapAttacks</th>\n",
       "      <th>MinimapRightClicks</th>\n",
       "      <th>NumberOfPACs</th>\n",
       "      <th>GapBetweenPACs</th>\n",
       "      <th>ActionLatency</th>\n",
       "      <th>ActionsInPAC</th>\n",
       "      <th>TotalMapExplored</th>\n",
       "      <th>WorkersMade</th>\n",
       "      <th>UniqueUnitsMade</th>\n",
       "      <th>ComplexUnitsMade</th>\n",
       "      <th>ComplexAbilitiesUsed</th>\n",
       "    </tr>\n",
       "  </thead>\n",
       "  <tbody>\n",
       "    <tr>\n",
       "      <th>0</th>\n",
       "      <td>52</td>\n",
       "      <td>5</td>\n",
       "      <td>27</td>\n",
       "      <td>10</td>\n",
       "      <td>3000</td>\n",
       "      <td>143.7180</td>\n",
       "      <td>0.003515</td>\n",
       "      <td>0.000220</td>\n",
       "      <td>7</td>\n",
       "      <td>0.000110</td>\n",
       "      <td>0.000392</td>\n",
       "      <td>0.004849</td>\n",
       "      <td>32.6677</td>\n",
       "      <td>40.8673</td>\n",
       "      <td>4.7508</td>\n",
       "      <td>28</td>\n",
       "      <td>0.001397</td>\n",
       "      <td>6</td>\n",
       "      <td>0.0</td>\n",
       "      <td>0.000000</td>\n",
       "    </tr>\n",
       "    <tr>\n",
       "      <th>1</th>\n",
       "      <td>55</td>\n",
       "      <td>5</td>\n",
       "      <td>23</td>\n",
       "      <td>10</td>\n",
       "      <td>5000</td>\n",
       "      <td>129.2322</td>\n",
       "      <td>0.003304</td>\n",
       "      <td>0.000259</td>\n",
       "      <td>4</td>\n",
       "      <td>0.000294</td>\n",
       "      <td>0.000432</td>\n",
       "      <td>0.004307</td>\n",
       "      <td>32.9194</td>\n",
       "      <td>42.3454</td>\n",
       "      <td>4.8434</td>\n",
       "      <td>22</td>\n",
       "      <td>0.001193</td>\n",
       "      <td>5</td>\n",
       "      <td>0.0</td>\n",
       "      <td>0.000208</td>\n",
       "    </tr>\n",
       "    <tr>\n",
       "      <th>2</th>\n",
       "      <td>56</td>\n",
       "      <td>4</td>\n",
       "      <td>30</td>\n",
       "      <td>10</td>\n",
       "      <td>200</td>\n",
       "      <td>69.9612</td>\n",
       "      <td>0.001101</td>\n",
       "      <td>0.000336</td>\n",
       "      <td>4</td>\n",
       "      <td>0.000294</td>\n",
       "      <td>0.000461</td>\n",
       "      <td>0.002926</td>\n",
       "      <td>44.6475</td>\n",
       "      <td>75.3548</td>\n",
       "      <td>4.0430</td>\n",
       "      <td>22</td>\n",
       "      <td>0.000745</td>\n",
       "      <td>6</td>\n",
       "      <td>0.0</td>\n",
       "      <td>0.000189</td>\n",
       "    </tr>\n",
       "    <tr>\n",
       "      <th>3</th>\n",
       "      <td>57</td>\n",
       "      <td>3</td>\n",
       "      <td>19</td>\n",
       "      <td>20</td>\n",
       "      <td>400</td>\n",
       "      <td>107.6016</td>\n",
       "      <td>0.001034</td>\n",
       "      <td>0.000213</td>\n",
       "      <td>1</td>\n",
       "      <td>0.000053</td>\n",
       "      <td>0.000543</td>\n",
       "      <td>0.003783</td>\n",
       "      <td>29.2203</td>\n",
       "      <td>53.7352</td>\n",
       "      <td>4.9155</td>\n",
       "      <td>19</td>\n",
       "      <td>0.000426</td>\n",
       "      <td>7</td>\n",
       "      <td>0.0</td>\n",
       "      <td>0.000384</td>\n",
       "    </tr>\n",
       "    <tr>\n",
       "      <th>4</th>\n",
       "      <td>58</td>\n",
       "      <td>3</td>\n",
       "      <td>32</td>\n",
       "      <td>10</td>\n",
       "      <td>500</td>\n",
       "      <td>122.8908</td>\n",
       "      <td>0.001136</td>\n",
       "      <td>0.000327</td>\n",
       "      <td>2</td>\n",
       "      <td>0.000000</td>\n",
       "      <td>0.001329</td>\n",
       "      <td>0.002368</td>\n",
       "      <td>22.6885</td>\n",
       "      <td>62.0813</td>\n",
       "      <td>9.3740</td>\n",
       "      <td>15</td>\n",
       "      <td>0.001174</td>\n",
       "      <td>4</td>\n",
       "      <td>0.0</td>\n",
       "      <td>0.000019</td>\n",
       "    </tr>\n",
       "  </tbody>\n",
       "</table>\n",
       "</div>"
      ],
      "text/plain": [
       "   GameID  LeagueIndex  Age  HoursPerWeek  TotalHours       APM  \\\n",
       "0      52            5   27            10        3000  143.7180   \n",
       "1      55            5   23            10        5000  129.2322   \n",
       "2      56            4   30            10         200   69.9612   \n",
       "3      57            3   19            20         400  107.6016   \n",
       "4      58            3   32            10         500  122.8908   \n",
       "\n",
       "   SelectByHotkeys  AssignToHotkeys  UniqueHotkeys  MinimapAttacks  \\\n",
       "0         0.003515         0.000220              7        0.000110   \n",
       "1         0.003304         0.000259              4        0.000294   \n",
       "2         0.001101         0.000336              4        0.000294   \n",
       "3         0.001034         0.000213              1        0.000053   \n",
       "4         0.001136         0.000327              2        0.000000   \n",
       "\n",
       "   MinimapRightClicks  NumberOfPACs  GapBetweenPACs  ActionLatency  \\\n",
       "0            0.000392      0.004849         32.6677        40.8673   \n",
       "1            0.000432      0.004307         32.9194        42.3454   \n",
       "2            0.000461      0.002926         44.6475        75.3548   \n",
       "3            0.000543      0.003783         29.2203        53.7352   \n",
       "4            0.001329      0.002368         22.6885        62.0813   \n",
       "\n",
       "   ActionsInPAC  TotalMapExplored  WorkersMade  UniqueUnitsMade  \\\n",
       "0        4.7508                28     0.001397                6   \n",
       "1        4.8434                22     0.001193                5   \n",
       "2        4.0430                22     0.000745                6   \n",
       "3        4.9155                19     0.000426                7   \n",
       "4        9.3740                15     0.001174                4   \n",
       "\n",
       "   ComplexUnitsMade  ComplexAbilitiesUsed  \n",
       "0               0.0              0.000000  \n",
       "1               0.0              0.000208  \n",
       "2               0.0              0.000189  \n",
       "3               0.0              0.000384  \n",
       "4               0.0              0.000019  "
      ]
     },
     "execution_count": 7,
     "metadata": {},
     "output_type": "execute_result"
    }
   ],
   "source": [
    "starcraft = pd.read_csv(\"SkillCraft.csv\")\n",
    "starcraft.head()"
   ]
  },
  {
   "cell_type": "markdown",
   "metadata": {
    "_uuid": "9d94d6e1808b73dddab3ee0dd82ee329bd95adf0"
   },
   "source": [
    "## Clean Up\n",
    "\n",
    "Some checking to see if there exists any null data.  Clean up if there is."
   ]
  },
  {
   "cell_type": "code",
   "execution_count": 8,
   "metadata": {
    "_uuid": "c7d152ded0cdfcf7b62a778f455ba1e2ffca48a3"
   },
   "outputs": [
    {
     "data": {
      "text/plain": [
       "GameID                  0\n",
       "LeagueIndex             0\n",
       "Age                     0\n",
       "HoursPerWeek            0\n",
       "TotalHours              0\n",
       "APM                     0\n",
       "SelectByHotkeys         0\n",
       "AssignToHotkeys         0\n",
       "UniqueHotkeys           0\n",
       "MinimapAttacks          0\n",
       "MinimapRightClicks      0\n",
       "NumberOfPACs            0\n",
       "GapBetweenPACs          0\n",
       "ActionLatency           0\n",
       "ActionsInPAC            0\n",
       "TotalMapExplored        0\n",
       "WorkersMade             0\n",
       "UniqueUnitsMade         0\n",
       "ComplexUnitsMade        0\n",
       "ComplexAbilitiesUsed    0\n",
       "dtype: int64"
      ]
     },
     "execution_count": 8,
     "metadata": {},
     "output_type": "execute_result"
    }
   ],
   "source": [
    "# missing data check\n",
    "starcraft.apply(lambda x: sum(x.isnull()), axis=0)"
   ]
  },
  {
   "cell_type": "markdown",
   "metadata": {
    "_uuid": "7c5f9da4c390d556c3636796169666b01e455fde"
   },
   "source": [
    "## Analysis\n",
    "\n",
    "Visualizing and describing the dataset helps us to see if there are any features worth removing from the get-go before modelling itself.  It also helps to show if there is a correlation between the League a player is in and their stats."
   ]
  },
  {
   "cell_type": "markdown",
   "metadata": {
    "_uuid": "509a999dfd76312cc9d675a91a38dafa5c98bc3f"
   },
   "source": [
    "### Summary Statistics\n",
    "\n",
    "Basic overview of the data."
   ]
  },
  {
   "cell_type": "code",
   "execution_count": 9,
   "metadata": {
    "_uuid": "b3d74b0e0ed636feadeed8f3a2bd38af5ad5bf08"
   },
   "outputs": [
    {
     "data": {
      "text/html": [
       "<div>\n",
       "<style scoped>\n",
       "    .dataframe tbody tr th:only-of-type {\n",
       "        vertical-align: middle;\n",
       "    }\n",
       "\n",
       "    .dataframe tbody tr th {\n",
       "        vertical-align: top;\n",
       "    }\n",
       "\n",
       "    .dataframe thead th {\n",
       "        text-align: right;\n",
       "    }\n",
       "</style>\n",
       "<table border=\"1\" class=\"dataframe\">\n",
       "  <thead>\n",
       "    <tr style=\"text-align: right;\">\n",
       "      <th></th>\n",
       "      <th>GameID</th>\n",
       "      <th>LeagueIndex</th>\n",
       "      <th>Age</th>\n",
       "      <th>HoursPerWeek</th>\n",
       "      <th>TotalHours</th>\n",
       "      <th>APM</th>\n",
       "      <th>SelectByHotkeys</th>\n",
       "      <th>AssignToHotkeys</th>\n",
       "      <th>UniqueHotkeys</th>\n",
       "      <th>MinimapAttacks</th>\n",
       "      <th>MinimapRightClicks</th>\n",
       "      <th>NumberOfPACs</th>\n",
       "      <th>GapBetweenPACs</th>\n",
       "      <th>ActionLatency</th>\n",
       "      <th>ActionsInPAC</th>\n",
       "      <th>TotalMapExplored</th>\n",
       "      <th>WorkersMade</th>\n",
       "      <th>UniqueUnitsMade</th>\n",
       "      <th>ComplexUnitsMade</th>\n",
       "      <th>ComplexAbilitiesUsed</th>\n",
       "    </tr>\n",
       "  </thead>\n",
       "  <tbody>\n",
       "    <tr>\n",
       "      <th>count</th>\n",
       "      <td>3338.000000</td>\n",
       "      <td>3338.000000</td>\n",
       "      <td>3338.000000</td>\n",
       "      <td>3338.000000</td>\n",
       "      <td>3338.000000</td>\n",
       "      <td>3338.000000</td>\n",
       "      <td>3338.000000</td>\n",
       "      <td>3338.000000</td>\n",
       "      <td>3338.000000</td>\n",
       "      <td>3338.000000</td>\n",
       "      <td>3338.000000</td>\n",
       "      <td>3338.000000</td>\n",
       "      <td>3338.000000</td>\n",
       "      <td>3338.000000</td>\n",
       "      <td>3338.000000</td>\n",
       "      <td>3338.000000</td>\n",
       "      <td>3338.000000</td>\n",
       "      <td>3338.000000</td>\n",
       "      <td>3338.000000</td>\n",
       "      <td>3338.000000</td>\n",
       "    </tr>\n",
       "    <tr>\n",
       "      <th>mean</th>\n",
       "      <td>4719.552127</td>\n",
       "      <td>4.120731</td>\n",
       "      <td>21.650389</td>\n",
       "      <td>15.909527</td>\n",
       "      <td>960.421809</td>\n",
       "      <td>114.575763</td>\n",
       "      <td>0.004023</td>\n",
       "      <td>0.000364</td>\n",
       "      <td>4.316357</td>\n",
       "      <td>0.000094</td>\n",
       "      <td>0.000380</td>\n",
       "      <td>0.003433</td>\n",
       "      <td>40.713819</td>\n",
       "      <td>64.209584</td>\n",
       "      <td>5.266955</td>\n",
       "      <td>22.116836</td>\n",
       "      <td>0.001031</td>\n",
       "      <td>6.541043</td>\n",
       "      <td>0.000060</td>\n",
       "      <td>0.000142</td>\n",
       "    </tr>\n",
       "    <tr>\n",
       "      <th>std</th>\n",
       "      <td>2656.919630</td>\n",
       "      <td>1.448170</td>\n",
       "      <td>4.206357</td>\n",
       "      <td>11.964495</td>\n",
       "      <td>17318.133922</td>\n",
       "      <td>48.111912</td>\n",
       "      <td>0.004726</td>\n",
       "      <td>0.000210</td>\n",
       "      <td>2.333322</td>\n",
       "      <td>0.000159</td>\n",
       "      <td>0.000359</td>\n",
       "      <td>0.000966</td>\n",
       "      <td>17.057191</td>\n",
       "      <td>19.037394</td>\n",
       "      <td>1.500605</td>\n",
       "      <td>7.440875</td>\n",
       "      <td>0.000520</td>\n",
       "      <td>1.859049</td>\n",
       "      <td>0.000112</td>\n",
       "      <td>0.000266</td>\n",
       "    </tr>\n",
       "    <tr>\n",
       "      <th>min</th>\n",
       "      <td>52.000000</td>\n",
       "      <td>1.000000</td>\n",
       "      <td>16.000000</td>\n",
       "      <td>0.000000</td>\n",
       "      <td>3.000000</td>\n",
       "      <td>22.059600</td>\n",
       "      <td>0.000000</td>\n",
       "      <td>0.000000</td>\n",
       "      <td>0.000000</td>\n",
       "      <td>0.000000</td>\n",
       "      <td>0.000000</td>\n",
       "      <td>0.000679</td>\n",
       "      <td>6.666700</td>\n",
       "      <td>24.632600</td>\n",
       "      <td>2.038900</td>\n",
       "      <td>5.000000</td>\n",
       "      <td>0.000077</td>\n",
       "      <td>2.000000</td>\n",
       "      <td>0.000000</td>\n",
       "      <td>0.000000</td>\n",
       "    </tr>\n",
       "    <tr>\n",
       "      <th>25%</th>\n",
       "      <td>2423.250000</td>\n",
       "      <td>3.000000</td>\n",
       "      <td>19.000000</td>\n",
       "      <td>8.000000</td>\n",
       "      <td>300.000000</td>\n",
       "      <td>79.231500</td>\n",
       "      <td>0.001245</td>\n",
       "      <td>0.000202</td>\n",
       "      <td>3.000000</td>\n",
       "      <td>0.000000</td>\n",
       "      <td>0.000139</td>\n",
       "      <td>0.002743</td>\n",
       "      <td>29.326600</td>\n",
       "      <td>50.886425</td>\n",
       "      <td>4.261525</td>\n",
       "      <td>17.000000</td>\n",
       "      <td>0.000682</td>\n",
       "      <td>5.000000</td>\n",
       "      <td>0.000000</td>\n",
       "      <td>0.000000</td>\n",
       "    </tr>\n",
       "    <tr>\n",
       "      <th>50%</th>\n",
       "      <td>4788.000000</td>\n",
       "      <td>4.000000</td>\n",
       "      <td>21.000000</td>\n",
       "      <td>12.000000</td>\n",
       "      <td>500.000000</td>\n",
       "      <td>107.070300</td>\n",
       "      <td>0.002445</td>\n",
       "      <td>0.000349</td>\n",
       "      <td>4.000000</td>\n",
       "      <td>0.000039</td>\n",
       "      <td>0.000278</td>\n",
       "      <td>0.003376</td>\n",
       "      <td>37.058900</td>\n",
       "      <td>61.296100</td>\n",
       "      <td>5.087050</td>\n",
       "      <td>22.000000</td>\n",
       "      <td>0.000904</td>\n",
       "      <td>6.000000</td>\n",
       "      <td>0.000000</td>\n",
       "      <td>0.000020</td>\n",
       "    </tr>\n",
       "    <tr>\n",
       "      <th>75%</th>\n",
       "      <td>6994.750000</td>\n",
       "      <td>5.000000</td>\n",
       "      <td>24.000000</td>\n",
       "      <td>20.000000</td>\n",
       "      <td>800.000000</td>\n",
       "      <td>140.156100</td>\n",
       "      <td>0.004945</td>\n",
       "      <td>0.000493</td>\n",
       "      <td>6.000000</td>\n",
       "      <td>0.000113</td>\n",
       "      <td>0.000508</td>\n",
       "      <td>0.004003</td>\n",
       "      <td>48.510425</td>\n",
       "      <td>74.032525</td>\n",
       "      <td>6.027350</td>\n",
       "      <td>27.000000</td>\n",
       "      <td>0.001258</td>\n",
       "      <td>8.000000</td>\n",
       "      <td>0.000087</td>\n",
       "      <td>0.000182</td>\n",
       "    </tr>\n",
       "    <tr>\n",
       "      <th>max</th>\n",
       "      <td>9271.000000</td>\n",
       "      <td>7.000000</td>\n",
       "      <td>44.000000</td>\n",
       "      <td>168.000000</td>\n",
       "      <td>1000000.000000</td>\n",
       "      <td>389.831400</td>\n",
       "      <td>0.043088</td>\n",
       "      <td>0.001648</td>\n",
       "      <td>10.000000</td>\n",
       "      <td>0.003019</td>\n",
       "      <td>0.003688</td>\n",
       "      <td>0.007971</td>\n",
       "      <td>237.142900</td>\n",
       "      <td>176.372100</td>\n",
       "      <td>18.558100</td>\n",
       "      <td>58.000000</td>\n",
       "      <td>0.005149</td>\n",
       "      <td>13.000000</td>\n",
       "      <td>0.000902</td>\n",
       "      <td>0.003084</td>\n",
       "    </tr>\n",
       "  </tbody>\n",
       "</table>\n",
       "</div>"
      ],
      "text/plain": [
       "            GameID  LeagueIndex          Age  HoursPerWeek      TotalHours  \\\n",
       "count  3338.000000  3338.000000  3338.000000   3338.000000     3338.000000   \n",
       "mean   4719.552127     4.120731    21.650389     15.909527      960.421809   \n",
       "std    2656.919630     1.448170     4.206357     11.964495    17318.133922   \n",
       "min      52.000000     1.000000    16.000000      0.000000        3.000000   \n",
       "25%    2423.250000     3.000000    19.000000      8.000000      300.000000   \n",
       "50%    4788.000000     4.000000    21.000000     12.000000      500.000000   \n",
       "75%    6994.750000     5.000000    24.000000     20.000000      800.000000   \n",
       "max    9271.000000     7.000000    44.000000    168.000000  1000000.000000   \n",
       "\n",
       "               APM  SelectByHotkeys  AssignToHotkeys  UniqueHotkeys  \\\n",
       "count  3338.000000      3338.000000      3338.000000    3338.000000   \n",
       "mean    114.575763         0.004023         0.000364       4.316357   \n",
       "std      48.111912         0.004726         0.000210       2.333322   \n",
       "min      22.059600         0.000000         0.000000       0.000000   \n",
       "25%      79.231500         0.001245         0.000202       3.000000   \n",
       "50%     107.070300         0.002445         0.000349       4.000000   \n",
       "75%     140.156100         0.004945         0.000493       6.000000   \n",
       "max     389.831400         0.043088         0.001648      10.000000   \n",
       "\n",
       "       MinimapAttacks  MinimapRightClicks  NumberOfPACs  GapBetweenPACs  \\\n",
       "count     3338.000000         3338.000000   3338.000000     3338.000000   \n",
       "mean         0.000094            0.000380      0.003433       40.713819   \n",
       "std          0.000159            0.000359      0.000966       17.057191   \n",
       "min          0.000000            0.000000      0.000679        6.666700   \n",
       "25%          0.000000            0.000139      0.002743       29.326600   \n",
       "50%          0.000039            0.000278      0.003376       37.058900   \n",
       "75%          0.000113            0.000508      0.004003       48.510425   \n",
       "max          0.003019            0.003688      0.007971      237.142900   \n",
       "\n",
       "       ActionLatency  ActionsInPAC  TotalMapExplored  WorkersMade  \\\n",
       "count    3338.000000   3338.000000       3338.000000  3338.000000   \n",
       "mean       64.209584      5.266955         22.116836     0.001031   \n",
       "std        19.037394      1.500605          7.440875     0.000520   \n",
       "min        24.632600      2.038900          5.000000     0.000077   \n",
       "25%        50.886425      4.261525         17.000000     0.000682   \n",
       "50%        61.296100      5.087050         22.000000     0.000904   \n",
       "75%        74.032525      6.027350         27.000000     0.001258   \n",
       "max       176.372100     18.558100         58.000000     0.005149   \n",
       "\n",
       "       UniqueUnitsMade  ComplexUnitsMade  ComplexAbilitiesUsed  \n",
       "count      3338.000000       3338.000000           3338.000000  \n",
       "mean          6.541043          0.000060              0.000142  \n",
       "std           1.859049          0.000112              0.000266  \n",
       "min           2.000000          0.000000              0.000000  \n",
       "25%           5.000000          0.000000              0.000000  \n",
       "50%           6.000000          0.000000              0.000020  \n",
       "75%           8.000000          0.000087              0.000182  \n",
       "max          13.000000          0.000902              0.003084  "
      ]
     },
     "execution_count": 9,
     "metadata": {},
     "output_type": "execute_result"
    }
   ],
   "source": [
    "# dataset summary\n",
    "starcraft.describe()"
   ]
  },
  {
   "cell_type": "markdown",
   "metadata": {
    "_uuid": "0dedb2e03c9b1933b1bfecf43fd4a4c3151d70a4"
   },
   "source": [
    "### Feature Plotting\n",
    "\n",
    "Boxplots give us a good idea of the distribution of features within each league and how they compare between leagues."
   ]
  },
  {
   "cell_type": "code",
   "execution_count": 10,
   "metadata": {
    "_uuid": "c8502feaca4b943153c402632ebd2166047b447b"
   },
   "outputs": [
    {
     "data": {
      "image/png": "[encoded data removed]",
      "text/plain": [
       "<Figure size 842.4x595.44 with 1 Axes>"
      ]
     },
     "metadata": {},
     "output_type": "display_data"
    }
   ],
   "source": [
    "# Age by League\n",
    "sns.set(style = \"whitegrid\", rc = {\"figure.figsize\":(11.7, 8.27)})\n",
    "ax = sns.boxplot(x = \"LeagueIndex\", y = \"Age\", data = starcraft).set_title(\"Age by League\")"
   ]
  },
  {
   "cell_type": "markdown",
   "metadata": {
    "_uuid": "dde42c75f4b85b58657da23c8efe306c8791645d"
   },
   "source": [
    "Age has a fairly even distribution between leagues."
   ]
  },
  {
   "cell_type": "code",
   "execution_count": null,
   "metadata": {
    "_uuid": "7812ed3e684915d88a0394dca1603a832cd72934"
   },
   "outputs": [],
   "source": [
    "# HoursPerWeek by League\n",
    "ax = sns.boxplot(x = \"LeagueIndex\", y = \"HoursPerWeek\", data = starcraft).set_title(\"HoursPerWeek by League\")"
   ]
  },
  {
   "cell_type": "markdown",
   "metadata": {
    "_uuid": "2d0463f9385486c5f326c9ddb30871a7f5e49e36"
   },
   "source": [
    "Unsurprisngly, playing the game more results in a better league.  More practice."
   ]
  },
  {
   "cell_type": "code",
   "execution_count": null,
   "metadata": {
    "_uuid": "c0c9b848dcd842a660d458ce635073e653512ebb"
   },
   "outputs": [],
   "source": [
    "# TotalHours by League\n",
    "ax = sns.boxplot(x = \"LeagueIndex\", y = \"TotalHours\", data = starcraft).set_title(\"TotalHours by League\")"
   ]
  },
  {
   "cell_type": "markdown",
   "metadata": {
    "_uuid": "9430898093a8921342046b1dbedd4f12ff17809b"
   },
   "source": [
    "Total hours played by everyone appears to be about the same.  Makes sense when viewed from the lens of \"work smarter, not harder\"."
   ]
  },
  {
   "cell_type": "code",
   "execution_count": null,
   "metadata": {
    "_uuid": "df4fe4a26d63369838bc9ed669a99bf265cc59a0"
   },
   "outputs": [],
   "source": [
    "# APM per league\n",
    "ax = sns.boxplot(x = \"LeagueIndex\", y = \"APM\", data = starcraft).set_title(\"APM by League\")"
   ]
  },
  {
   "cell_type": "markdown",
   "metadata": {
    "_uuid": "6b027701c36216ff7e187cf2e022b63131ed852a"
   },
   "source": [
    "Higher APM leads to higher league placement.  "
   ]
  },
  {
   "cell_type": "code",
   "execution_count": null,
   "metadata": {
    "_uuid": "72f37d1c98e2d3f10462f177c17edd8ba142312e"
   },
   "outputs": [],
   "source": [
    "# SelectByHotkeys per league\n",
    "ax = sns.boxplot(x = \"LeagueIndex\", y = \"SelectByHotkeys\", data = starcraft).set_title(\"SelectByHotkeys per League\")"
   ]
  },
  {
   "cell_type": "markdown",
   "metadata": {
    "_uuid": "a257a734627234e6256aa7304a08f3bb44ae79f4"
   },
   "source": [
    "Selecting more things by hotkeys means more efficient movement since constantly clikcing the buttons instead of using hotkeys makes a player slower."
   ]
  },
  {
   "cell_type": "code",
   "execution_count": null,
   "metadata": {
    "_uuid": "3b631fffbf75e2d71f21e7c8728240c972c0efff"
   },
   "outputs": [],
   "source": [
    "# AssignToHotkeys per League\n",
    "ax = sns.boxplot(x = \"LeagueIndex\", y = \"AssignToHotkeys\", data = starcraft).set_title(\"AssignToHotkeys by League\")"
   ]
  },
  {
   "cell_type": "markdown",
   "metadata": {
    "_uuid": "14614ce8138dcc9a01ae0c227956f19ae842ba09"
   },
   "source": [
    "From starcraft guides, the \"select all army\" hotkey is most frequently used, leading to less hotkeys used overall.  More hotkeys, though, means better microing of your army.  Shows here as a higher leagues placement relative to number of hotkeys assigned."
   ]
  },
  {
   "cell_type": "code",
   "execution_count": null,
   "metadata": {
    "_uuid": "d871ee3b7ce45fc6ae740262a7cc0d7f969c56ed"
   },
   "outputs": [],
   "source": [
    "# UniqueHotkeys by League\n",
    "ax = sns.boxplot(x = \"LeagueIndex\", y = \"UniqueHotkeys\", data = starcraft).set_title(\"UniqueHotkeys by League\")"
   ]
  },
  {
   "cell_type": "markdown",
   "metadata": {
    "_uuid": "50be07e77e83ba0d432e18198559c93a9121837f"
   },
   "source": [
    "The mean rises while the interquartile ranges stay about the same."
   ]
  },
  {
   "cell_type": "code",
   "execution_count": null,
   "metadata": {
    "_uuid": "2ab9521cefe28ce4745b17a635cc741e019dbebb"
   },
   "outputs": [],
   "source": [
    "# MinimapAttacks by League\n",
    "ax = sns.boxplot(x = \"LeagueIndex\", y = \"MinimapAttacks\", data = starcraft).set_title(\"MinimapAttakcs by League\")"
   ]
  },
  {
   "cell_type": "markdown",
   "metadata": {
    "_uuid": "e31b4467eb8679403c07918198c4749d4bfd4d6e"
   },
   "source": [
    "Attacking by clicking on the minimap seems to increase with league.  Likely due to allowing a player to do other things while assigning their army to attack somewhere."
   ]
  },
  {
   "cell_type": "code",
   "execution_count": null,
   "metadata": {
    "_uuid": "95e3c9b115d8b988c3eea8cba44d78540bb1524f"
   },
   "outputs": [],
   "source": [
    "# MinimapRightClicks by League\n",
    "ax = sns.boxplot(x = \"LeagueIndex\", y = \"MinimapRightClicks\", data = starcraft).set_title(\"MinimapRightClicks by League\")"
   ]
  },
  {
   "cell_type": "markdown",
   "metadata": {
    "_uuid": "febb29ad29a23b407d2a56f741174271be99cf73"
   },
   "source": [
    "The right clicks allow for movement.  Again, more efficiency and multi-tasking allowed with this method."
   ]
  },
  {
   "cell_type": "code",
   "execution_count": null,
   "metadata": {
    "_uuid": "22988e3ebd9e6a7486b673321e812392ad43851d"
   },
   "outputs": [],
   "source": [
    "# NumberOfPACs by League\n",
    "ax = sns.boxplot(x = \"LeagueIndex\", y = \"NumberOfPACs\", data = starcraft).set_title(\"NumberOfPACs by League\")"
   ]
  },
  {
   "cell_type": "markdown",
   "metadata": {
    "_uuid": "fef285ceb1eec479e55487128cf21dba8d5b2ae7"
   },
   "source": [
    "Perception Action Cycle(PAC) or basically the ability to move the camera to an area, execute actions and then changes camera to another location.  Higher PACs means a shorter time to figure out what needs to be done in each area, leading to a higher league."
   ]
  },
  {
   "cell_type": "code",
   "execution_count": null,
   "metadata": {
    "_uuid": "4894c103fc7953035ab73001e0b08c1b21528d7a"
   },
   "outputs": [],
   "source": [
    "# GapBetweenPACs by League\n",
    "ax = sns.boxplot(x = \"LeagueIndex\", y = \"GapBetweenPACs\", data = starcraft).set_title(\"GapBetweenPACs by League\")"
   ]
  },
  {
   "cell_type": "markdown",
   "metadata": {
    "_uuid": "2386847df7f48073854c3c04d7e364b1532ef5b4"
   },
   "source": [
    "Shorter gaps means less time spent thinking about what to do and more time spent doing.  Shorter gap leads to a higher league."
   ]
  },
  {
   "cell_type": "code",
   "execution_count": null,
   "metadata": {
    "_uuid": "3d2d8821858e5a5603d45da143623f4a0920a12f"
   },
   "outputs": [],
   "source": [
    "# ActionLatency by League\n",
    "ax = sns.boxplot(x = \"LeagueIndex\", y = \"ActionLatency\", data = starcraft).set_title(\"ActionLatency by League\")"
   ]
  },
  {
   "cell_type": "markdown",
   "metadata": {
    "_uuid": "5653999e2084f0b4f4c365101957b31ede66a71d"
   },
   "source": [
    "The time required between moving camera to an area and then initiating an action.  Lower Action Latency likely means better understanding of the game/better muscle memory which leads to a higher league."
   ]
  },
  {
   "cell_type": "code",
   "execution_count": null,
   "metadata": {
    "_uuid": "0dba34eb79f59278c6c8237b6130cb8bcd593302"
   },
   "outputs": [],
   "source": [
    "# ActionsInPAC by League\n",
    "ax = sns.boxplot(x = \"LeagueIndex\", y = \"ActionsInPAC\", data = starcraft).set_title(\"ActionsInPAC by League\")"
   ]
  },
  {
   "cell_type": "markdown",
   "metadata": {
    "_uuid": "2781f425d1214c6fa2b6de975e01ab22136f47e0"
   },
   "source": [
    "Not much correlation with higher league likely due to it being more important to take less time to execute actions versus more actions on each screen.  "
   ]
  },
  {
   "cell_type": "code",
   "execution_count": null,
   "metadata": {
    "_uuid": "6d0f0f17ec8634af4b01c20ede5f161e8735b6c0"
   },
   "outputs": [],
   "source": [
    "# TotalMapExplored by League\n",
    "ax = sns.boxplot(x = \"LeagueIndex\", y = \"TotalMapExplored\", data = starcraft).set_title(\"TotalMapExplored by League\")"
   ]
  },
  {
   "cell_type": "markdown",
   "metadata": {
    "_uuid": "662d71832a3a41d968b6f6e1c2efbfe6aeeae631"
   },
   "source": [
    "More map explored leads to a higher league.  This is likely due to greater emphasis on scouting as the league increases.  If you don't know what your opponent is doing, then you won't be able to counter what they're doing."
   ]
  },
  {
   "cell_type": "code",
   "execution_count": null,
   "metadata": {
    "_uuid": "482e9c69f00f35452629103ef08a2cd0cd4842f6"
   },
   "outputs": [],
   "source": [
    "# WorkersMade by League\n",
    "ax = sns.boxplot(x = \"LeagueIndex\", y = \"WorkersMade\", data = starcraft).set_title(\"WorkersMade by League\")"
   ]
  },
  {
   "cell_type": "markdown",
   "metadata": {
    "_uuid": "3994562939f914413a0a1e28ad1099d90a214520"
   },
   "source": [
    "Consistent worker production leads to a higher league placement.  More workers means more mining and building so that makes pretty good sense."
   ]
  },
  {
   "cell_type": "code",
   "execution_count": null,
   "metadata": {
    "_uuid": "d635836f20b6b8fdc598cf8563a5f32b57ef41b7"
   },
   "outputs": [],
   "source": [
    "# UniqueUnitsMade by League\n",
    "ax = sns.boxplot(x = \"LeagueIndex\", y = \"UniqueUnitsMade\", data = starcraft).set_title(\"UniqueUnitsMade by League\")"
   ]
  },
  {
   "cell_type": "markdown",
   "metadata": {
    "_uuid": "77f93e7a150d131a18900299bcb9278b0e41c45f"
   },
   "source": [
    "Not much correlation here.  There are only so many different units you can build for each race so there won't be a huge difference."
   ]
  },
  {
   "cell_type": "code",
   "execution_count": null,
   "metadata": {
    "_uuid": "b73427f1f177ec5ce4d6519c201a464f0b8afce7"
   },
   "outputs": [],
   "source": [
    "# ComplexUnitsMade by League\n",
    "ax = sns.boxplot(x = \"LeagueIndex\", y = \"ComplexUnitsMade\", data = starcraft).set_title(\"ComplexUnitsMade by League\")"
   ]
  },
  {
   "cell_type": "markdown",
   "metadata": {
    "_uuid": "ea4208371e41f148f82812fcb1dceeb2393703e0"
   },
   "source": [
    "Complex units include ghosts, infestors and high templar.  Units that require greater skill than just A-clicking the ground with them given their abilities.  On the other hand, there's a greater range as the league increases but the mean number built stays at roughly the same, around 0."
   ]
  },
  {
   "cell_type": "code",
   "execution_count": null,
   "metadata": {
    "_uuid": "6834f7e4120880ef56d96e450178c62ff8eecca2"
   },
   "outputs": [],
   "source": [
    "# ComplexAbilitiesUsed by League\n",
    "ax = sns.boxplot(x = \"LeagueIndex\", y = \"ComplexAbilitiesUsed\", data = starcraft).set_title(\"ComplexAbilitiesUsed by League\")"
   ]
  },
  {
   "cell_type": "markdown",
   "metadata": {
    "_uuid": "6511b33880b9bf1dd953634bc8ddf1819df76e01"
   },
   "source": [
    "Also not a huge correlation.  Complex actions require extra input (like specific targetting) so the amount used increases with league, but not by a huge amount."
   ]
  },
  {
   "cell_type": "markdown",
   "metadata": {
    "_uuid": "aecce3dbfdb72cf1ad56d6ebbfb55a94442f6fe2"
   },
   "source": [
    "## Modelling\n",
    "\n",
    "We can attempt to model the dataset.  Since there are 7 classes for targets, we are looking at a multinomial classification problem and can select our models accordingly."
   ]
  },
  {
   "cell_type": "markdown",
   "metadata": {
    "_uuid": "98390f2f23d7358b3b57e3a0dc30565e82ebd8d9"
   },
   "source": [
    "### Naive Bayes Classification\n",
    "\n",
    "A simple model for multinomial classification here.  We drop some columns as our analysis indicates that they will not have a suitable impact on the result."
   ]
  },
  {
   "cell_type": "code",
   "execution_count": null,
   "metadata": {
    "_uuid": "a75169bc6b3ef2c006fc6cc3b8102489d835dc1a"
   },
   "outputs": [],
   "source": [
    "# feature cleanup\n",
    "drops = [\"GameID\", \"Age\", \"TotalHours\", \"UniqueUnitsMade\", \"ComplexUnitsMade\", \"ComplexAbilitiesUsed\"]\n",
    "\n",
    "starcraft.drop(drops, axis = 1, inplace = True)\n",
    "starcraft.head()"
   ]
  },
  {
   "cell_type": "markdown",
   "metadata": {
    "_uuid": "a81a648bf1fbc6ede5c2b80a4ded8a4a35111d72"
   },
   "source": [
    "We need to split the data into training and test sets to train and test the model respectively."
   ]
  },
  {
   "cell_type": "code",
   "execution_count": null,
   "metadata": {
    "_uuid": "ea3553cb39aef630402be4f051b9e26c25de8a8b"
   },
   "outputs": [],
   "source": [
    "# split into training and test sets\n",
    "y = starcraft.LeagueIndex\n",
    "X_train, X_test, y_train, y_test = train_test_split(starcraft, y, test_size = 0.2)\n",
    "\n",
    "# remove the target from the training data\n",
    "X_train.drop(\"LeagueIndex\", axis = 1, inplace = True)\n",
    "X_test.drop(\"LeagueIndex\", axis = 1, inplace = True)\n",
    "\n",
    "# easy to read statements\n",
    "print(\"X_train: \", X_train.shape) \n",
    "print(\"y_train: \", y_train.shape)\n",
    "print(\"X_test: \", X_test.shape) \n",
    "print(\"y_test: \", y_test.shape)"
   ]
  },
  {
   "cell_type": "markdown",
   "metadata": {
    "_uuid": "5710e9078c533dd5b3a94624b3e73ad9868ad9bd"
   },
   "source": [
    "And we can finally build the naive-bayes model."
   ]
  },
  {
   "cell_type": "code",
   "execution_count": null,
   "metadata": {
    "_uuid": "0da88d32c196764d277d18c61b5ba8bf3f6d746c"
   },
   "outputs": [],
   "source": [
    "# fit the model\n",
    "clf = MultinomialNB()\n",
    "\n",
    "# train the model\n",
    "model_1 = clf.fit(X_train, y_train)"
   ]
  },
  {
   "cell_type": "code",
   "execution_count": null,
   "metadata": {
    "_uuid": "510bc744bbe21f9e17dca3181d0a12ca91d05e12"
   },
   "outputs": [],
   "source": [
    "# predictions\n",
    "predictions_1 = clf.predict(X_test)\n",
    "\n",
    "# view predictions\n",
    "predictions_1[:10]"
   ]
  },
  {
   "cell_type": "code",
   "execution_count": null,
   "metadata": {
    "_uuid": "48acd6ea0c828d72bad904b784af38d9c54fec57"
   },
   "outputs": [],
   "source": [
    "# compare results\n",
    "print(\"Classification Accuracy: \", round(accuracy_score(y_test, predictions_1), 2))"
   ]
  },
  {
   "cell_type": "markdown",
   "metadata": {
    "_uuid": "be4b1cf5b5b82d46149b8e6e18d9ec3f04d5e9d9"
   },
   "source": [
    "### Random Forest Classification\n",
    "\n",
    "We can borrow the train and test data splits from the Naive Bayes Classification to run a random forest classifier."
   ]
  },
  {
   "cell_type": "code",
   "execution_count": null,
   "metadata": {
    "_uuid": "788568770424a3717839d12b5febd7b269e1b5fb"
   },
   "outputs": [],
   "source": [
    "# build the model\n",
    "clf2 = RandomForestClassifier(n_estimators = 64, random_state = 123)\n",
    "\n",
    "# fit the model\n",
    "model_2 = clf2.fit(X_train, y_train)"
   ]
  },
  {
   "cell_type": "code",
   "execution_count": null,
   "metadata": {
    "_uuid": "f178a0cd6442b9880559f558f0791298c9e910da"
   },
   "outputs": [],
   "source": [
    "# predictions\n",
    "predictions_2 = clf2.predict(X_test)\n",
    "\n",
    "# view them\n",
    "predictions_2[:10]"
   ]
  },
  {
   "cell_type": "code",
   "execution_count": null,
   "metadata": {
    "_uuid": "ba82f61fe84e6fc8a83a010d13313de490fc3b44"
   },
   "outputs": [],
   "source": [
    "# compare results\n",
    "print(\"Classification Accuracy: \", round(accuracy_score(y_test, predictions_2), 2))"
   ]
  },
  {
   "cell_type": "markdown",
   "metadata": {
    "_uuid": "059131efffd28d52e7351150be990f91b48097b6"
   },
   "source": [
    "### Support Vector Machine"
   ]
  },
  {
   "cell_type": "code",
   "execution_count": null,
   "metadata": {
    "_uuid": "50e6ba8efe64798d24fe0887c31c88166cfa13cf"
   },
   "outputs": [],
   "source": [
    "# build the model\n",
    "clf3 = svm.SVC(gamma = 0.00001, decision_function_shape = \"ovr\")\n",
    "\n",
    "# fit the model\n",
    "model_3 = clf3.fit(X_train, y_train)"
   ]
  },
  {
   "cell_type": "code",
   "execution_count": null,
   "metadata": {
    "_uuid": "fcdb9880cc6e819508956db8bc213a4f6b811ff1"
   },
   "outputs": [],
   "source": [
    "# predictions\n",
    "predictions_3 = clf3.predict(X_test)\n",
    "\n",
    "predictions_3[:10]"
   ]
  },
  {
   "cell_type": "code",
   "execution_count": null,
   "metadata": {
    "_uuid": "6dca1701a23e36cb5ab18a027988ac101f7bb588"
   },
   "outputs": [],
   "source": [
    "# compare results\n",
    "print(\"Classification Accuracy: \", round(accuracy_score(y_test, predictions_3), 2))"
   ]
  },
  {
   "cell_type": "markdown",
   "metadata": {
    "_uuid": "bf698b5018024cd05a0d917f39e3de539a52ff79"
   },
   "source": [
    "## Conclusions\n",
    "\n",
    "The models explored here are fairly simple, especially considering the lack of feature engineering (outside of removing some columns) to make the features better explain variance in the data.  For better classification, more feature engineering is likely required as well as hyperparameter tuning to attain a better classification rate."
   ]
  }
 ],
 "metadata": {
  "kernelspec": {
   "display_name": "Python 3",
   "language": "python",
   "name": "python3"
  },
  "language_info": {
   "codemirror_mode": {
    "name": "ipython",
    "version": 3
   },
   "file_extension": ".py",
   "mimetype": "text/x-python",
   "name": "python",
   "nbconvert_exporter": "python",
   "pygments_lexer": "ipython3",
   "version": "3.8.3"
  }
 },
 "nbformat": 4,
 "nbformat_minor": 1
}
